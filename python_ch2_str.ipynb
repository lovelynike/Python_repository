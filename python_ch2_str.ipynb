{
  "nbformat": 4,
  "nbformat_minor": 0,
  "metadata": {
    "colab": {
      "provenance": [],
      "authorship_tag": "ABX9TyPX1Y2bZ6medKaBVZEug49D",
      "include_colab_link": true
    },
    "kernelspec": {
      "name": "python3",
      "display_name": "Python 3"
    },
    "language_info": {
      "name": "python"
    }
  },
  "cells": [
    {
      "cell_type": "markdown",
      "metadata": {
        "id": "view-in-github",
        "colab_type": "text"
      },
      "source": [
        "<a href=\"https://colab.research.google.com/github/lovelynike/Python_repository/blob/master/python_ch2_str.ipynb\" target=\"_parent\"><img src=\"https://colab.research.google.com/assets/colab-badge.svg\" alt=\"Open In Colab\"/></a>"
      ]
    },
    {
      "cell_type": "markdown",
      "source": [
        "len(문자열) : 길이를 반환\n",
        "문자열.startwith(문자열2) : 문자열이 문자열2로 시작하는지 판단 \n",
        "문자열.endwith(문자열2) : 문자열이 문자열2로 끝나는지 판단 \n",
        "문자열.find(문자열2) : 문자열 안에 문자열2가 있는지 판단하고 없을 경우 -1 을 있을 경우 위치를 반환 \n"
      ],
      "metadata": {
        "id": "3pImkGkUUEQ6"
      }
    },
    {
      "cell_type": "code",
      "execution_count": 1,
      "metadata": {
        "colab": {
          "base_uri": "https://localhost:8080/"
        },
        "id": "ddu9Xmo3T4dL",
        "outputId": "72b4051f-6ba5-4fc1-cea2-377c0d11ce2d"
      },
      "outputs": [
        {
          "output_type": "execute_result",
          "data": {
            "text/plain": [
              "13"
            ]
          },
          "metadata": {},
          "execution_count": 1
        }
      ],
      "source": [
        "len('Life is short')"
      ]
    },
    {
      "cell_type": "code",
      "source": [
        "'           life is short       '.strip()  # 공백 제거 \n"
      ],
      "metadata": {
        "colab": {
          "base_uri": "https://localhost:8080/",
          "height": 35
        },
        "id": "zGoltY49WVuy",
        "outputId": "0131330b-8e1e-4675-ca92-9e229b6c0457"
      },
      "execution_count": 2,
      "outputs": [
        {
          "output_type": "execute_result",
          "data": {
            "text/plain": [
              "'life is short'"
            ],
            "application/vnd.google.colaboratory.intrinsic+json": {
              "type": "string"
            }
          },
          "metadata": {},
          "execution_count": 2
        }
      ]
    },
    {
      "cell_type": "markdown",
      "source": [
        "현재 시간은 %d 시 입니다. \n",
        "현재 시간은 {}시 입니다. \n",
        "\n"
      ],
      "metadata": {
        "id": "utSt6zV-ZlsS"
      }
    },
    {
      "cell_type": "code",
      "source": [
        "'지금은 {time}시 {min}분 입니다.'.format(time= 7, min = 34)\n"
      ],
      "metadata": {
        "colab": {
          "base_uri": "https://localhost:8080/",
          "height": 35
        },
        "id": "E5awWg0tWgna",
        "outputId": "ab65c259-d9ec-4dd1-f9af-dfe497f75fc9"
      },
      "execution_count": 5,
      "outputs": [
        {
          "output_type": "execute_result",
          "data": {
            "text/plain": [
              "'지금은 7시 34분 입니다.'"
            ],
            "application/vnd.google.colaboratory.intrinsic+json": {
              "type": "string"
            }
          },
          "metadata": {},
          "execution_count": 5
        }
      ]
    },
    {
      "cell_type": "markdown",
      "source": [
        "int() #숫자로 바꾸기 \n",
        "float()\n",
        "\n",
        "str() #문자로 바꾸기 \n"
      ],
      "metadata": {
        "id": "_z5h8ztEacH9"
      }
    }
  ]
}