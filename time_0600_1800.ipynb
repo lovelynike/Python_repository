{
  "nbformat": 4,
  "nbformat_minor": 0,
  "metadata": {
    "colab": {
      "provenance": [],
      "authorship_tag": "ABX9TyPvtfGtQO7ru1xX6ORfr2VT",
      "include_colab_link": true
    },
    "kernelspec": {
      "name": "python3",
      "display_name": "Python 3"
    },
    "language_info": {
      "name": "python"
    }
  },
  "cells": [
    {
      "cell_type": "markdown",
      "metadata": {
        "id": "view-in-github",
        "colab_type": "text"
      },
      "source": [
        "<a href=\"https://colab.research.google.com/github/lovelynike/Python_repository/blob/master/time_0600_1800.ipynb\" target=\"_parent\"><img src=\"https://colab.research.google.com/assets/colab-badge.svg\" alt=\"Open In Colab\"/></a>"
      ]
    },
    {
      "cell_type": "markdown",
      "source": [
        "6시부터 18시까지 30분 단위로 표현하고 싶었는데...... 0번이 왜 이렇게 나오지 ㅎㅎ "
      ],
      "metadata": {
        "id": "SufiHUZnRRP8"
      }
    },
    {
      "cell_type": "code",
      "execution_count": null,
      "metadata": {
        "colab": {
          "base_uri": "https://localhost:8080/"
        },
        "id": "L--BSauE2a28",
        "outputId": "764c697c-341c-4bd4-d384-8f83adad35c2"
      },
      "outputs": [
        {
          "output_type": "stream",
          "name": "stdout",
          "text": [
            "1830\n",
            "600\n",
            "630\n",
            "700\n",
            "730\n",
            "800\n",
            "830\n",
            "900\n",
            "930\n",
            "1000\n",
            "1030\n",
            "1100\n",
            "1130\n",
            "1200\n",
            "1230\n",
            "1300\n",
            "1330\n",
            "1400\n",
            "1430\n",
            "1500\n",
            "1530\n",
            "1600\n",
            "1630\n",
            "1700\n",
            "1730\n",
            "1800\n"
          ]
        }
      ],
      "source": [
        "a = 600\n",
        "b = 30\n",
        "c = 70\n",
        "\n",
        "time = a\n",
        "\n",
        "for i in range(0, 26) :\n",
        "  \n",
        "  if i % 2 == 1 :     \n",
        "     print(time)\n",
        "     time = time_h + c\n",
        "  else :\n",
        "     print(time_h)\n",
        "     time_h = time + b\n"
      ]
    }
  ]
}